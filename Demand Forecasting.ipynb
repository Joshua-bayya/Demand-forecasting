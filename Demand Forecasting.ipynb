{
 "cells": [
  {
   "cell_type": "code",
   "execution_count": 1,
   "id": "c287655c-a714-4286-90e4-8e5ba83bd0ad",
   "metadata": {},
   "outputs": [],
   "source": [
    "import pandas as pd \n",
    "sales = pd.read_csv('data/Transaction_data.csv', low_memory=False)\n",
    "store = pd.read_csv('data/Store_Lookup.csv')\n",
    "product = pd.read_csv('data/Product_Lookup.csv')"
   ]
  },
  {
   "cell_type": "code",
   "execution_count": 2,
   "id": "6b398a05-d0e1-4c38-9f9a-dcdf01393ab0",
   "metadata": {},
   "outputs": [
    {
     "name": "stdout",
     "output_type": "stream",
     "text": [
      "  WEEK_END_DATE  STORE_NUM         UPC  UNITS  VISITS  HHS  SPEND  PRICE  \\\n",
      "0     14-Jan-09        367  1111009477     13      13   13  18.07   1.39   \n",
      "1     14-Jan-09        367  1111009497     20      18   18  27.80   1.39   \n",
      "2     14-Jan-09        367  1111009507     14      14   14  19.32   1.38   \n",
      "3     14-Jan-09        367  1111035398      4       3    3  14.00   3.50   \n",
      "4     14-Jan-09        367  1111038078      3       3    3   7.50   2.50   \n",
      "\n",
      "   BASE_PRICE  FEATURE  DISPLAY  TPR_ONLY  \n",
      "0        1.57        0        0         1  \n",
      "1        1.39        0        0         0  \n",
      "2        1.38        0        0         0  \n",
      "3        4.49        0        0         1  \n",
      "4        2.50        0        0         0  \n",
      "<class 'pandas.core.frame.DataFrame'>\n",
      "RangeIndex: 524950 entries, 0 to 524949\n",
      "Data columns (total 12 columns):\n",
      " #   Column         Non-Null Count   Dtype  \n",
      "---  ------         --------------   -----  \n",
      " 0   WEEK_END_DATE  524950 non-null  object \n",
      " 1   STORE_NUM      524950 non-null  int64  \n",
      " 2   UPC            524950 non-null  int64  \n",
      " 3   UNITS          524950 non-null  int64  \n",
      " 4   VISITS         524950 non-null  int64  \n",
      " 5   HHS            524950 non-null  int64  \n",
      " 6   SPEND          524950 non-null  float64\n",
      " 7   PRICE          524927 non-null  float64\n",
      " 8   BASE_PRICE     524765 non-null  float64\n",
      " 9   FEATURE        524950 non-null  int64  \n",
      " 10  DISPLAY        524950 non-null  int64  \n",
      " 11  TPR_ONLY       524950 non-null  int64  \n",
      "dtypes: float64(3), int64(8), object(1)\n",
      "memory usage: 48.1+ MB\n",
      "None\n",
      "WEEK_END_DATE      0\n",
      "STORE_NUM          0\n",
      "UPC                0\n",
      "UNITS              0\n",
      "VISITS             0\n",
      "HHS                0\n",
      "SPEND              0\n",
      "PRICE             23\n",
      "BASE_PRICE       185\n",
      "FEATURE            0\n",
      "DISPLAY            0\n",
      "TPR_ONLY           0\n",
      "dtype: int64\n"
     ]
    }
   ],
   "source": [
    "print(sales.head())  # View first 5 rows\n",
    "print(sales.info()) \n",
    "print(sales.isnull().sum())"
   ]
  },
  {
   "cell_type": "code",
   "execution_count": 3,
   "id": "b752e7e1-74ec-4bec-b2d4-1174e6652d36",
   "metadata": {},
   "outputs": [],
   "source": [
    "sales.columns = sales.columns.str.lower()"
   ]
  },
  {
   "cell_type": "code",
   "execution_count": 4,
   "id": "4ca46687-bc37-4f21-9f25-145c5d408497",
   "metadata": {},
   "outputs": [
    {
     "name": "stderr",
     "output_type": "stream",
     "text": [
      "C:\\Users\\JOSHUA\\AppData\\Local\\Temp\\ipykernel_5808\\974956267.py:1: UserWarning: Could not infer format, so each element will be parsed individually, falling back to `dateutil`. To ensure parsing is consistent and as-expected, please specify a format.\n",
      "  sales['week_end_date'] = pd.to_datetime(sales['week_end_date'])\n"
     ]
    }
   ],
   "source": [
    "sales['week_end_date'] = pd.to_datetime(sales['week_end_date'])"
   ]
  },
  {
   "cell_type": "code",
   "execution_count": 5,
   "id": "d8129660-ff57-4c82-abe1-a787a886c8a3",
   "metadata": {},
   "outputs": [],
   "source": [
    "sales['week_end_date'] = pd.to_datetime(sales['week_end_date'], format='%d-%b-%y')"
   ]
  },
  {
   "cell_type": "markdown",
   "id": "0afa13db-a973-4e84-9e60-97e25ff59c0a",
   "metadata": {},
   "source": [
    "## CLEANING"
   ]
  },
  {
   "cell_type": "code",
   "execution_count": 6,
   "id": "d24425ce-86f0-4174-bc01-b4d3095b728b",
   "metadata": {},
   "outputs": [
    {
     "name": "stdout",
     "output_type": "stream",
     "text": [
      "Count of zeros in specified columns:\n",
      " Zero's in store_num: 0\n",
      " Zero's in upc: 0\n",
      " Zero's in units: 5\n",
      " Zero's in visits: 0\n",
      " Zero's in hhs: 0\n",
      " Zero's in spend: 24\n",
      " Zero's in price: 1\n",
      " Zero's in base_price: 0\n"
     ]
    }
   ],
   "source": [
    "coloums_to_check = ['store_num','upc','units','visits','hhs','spend','price','base_price']\n",
    "print(\"Count of zeros in specified columns:\")\n",
    "for col in coloums_to_check:\n",
    "    zero_count = (sales[col] == 0).sum()\n",
    "    print(f\" Zero's in {col}: {zero_count}\")\n"
   ]
  },
  {
   "cell_type": "markdown",
   "id": "15bd435c-25c3-411d-8312-3f5b340f6b91",
   "metadata": {},
   "source": [
    "==================================\n",
    "\n",
    "count of 0's and null values: \n",
    "\n",
    "Zero's in units: 5\n",
    "\n",
    "Zero's in spend: 24\n",
    "\n",
    "Zero's in price: 1\n",
    "\n",
    "null values in price: 23\n",
    "\n",
    "null values in base_price: 185"
   ]
  },
  {
   "cell_type": "markdown",
   "id": "628d2e85-c311-439d-90ba-f5782a8a3463",
   "metadata": {},
   "source": [
    "============================================\n",
    "\n",
    "Data Cleaning Plan for Units = 0 \n",
    "\n",
    "if units = 0 & hhs = visits , then units = visits\n",
    "\n",
    "if units = 0 & hhs < visits, then units = visits\n",
    "\n",
    "if units = 0 & hhs > visit, then units = hhs"
   ]
  },
  {
   "cell_type": "code",
   "execution_count": 7,
   "id": "525399e5-097a-4e66-85b9-0838ee4e9adb",
   "metadata": {},
   "outputs": [],
   "source": [
    "sales.loc[(sales['units'] == 0) & (sales['hhs'] == sales['visits']), 'units'] = sales['visits']\n",
    "sales.loc[(sales['units'] == 0) & (sales['hhs'] < sales['visits']), 'units'] = sales['visits']\n",
    "sales.loc[(sales['units'] == 0) & (sales['hhs'] > sales['visits']), 'units'] = sales['hhs']"
   ]
  },
  {
   "cell_type": "markdown",
   "id": "4cbb998d-0911-496a-ae39-9b67cf6645af",
   "metadata": {},
   "source": [
    "Filling missing/ 0 base_price:\n",
    "\n",
    "if tpr = 1, check the upc and median the baseprice\n",
    "\n",
    "if tpr = 0 , then base price = spend/units"
   ]
  },
  {
   "cell_type": "code",
   "execution_count": 10,
   "id": "bda5f9d4-a8f7-4930-83c8-531e6ec20c8c",
   "metadata": {},
   "outputs": [],
   "source": [
    "# CASE 1: If base_price is NaN or 0, and TPR = 0 ; base price = spend / units\n",
    "mask_base_invalid = (sales['base_price'].isnull()) | (sales['base_price'] == 0)\n",
    "mask_tpr_0 = sales['tpr_only'] == 0\n",
    "sales.loc[mask_base_invalid & mask_tpr_0, 'base_price'] = sales['spend'] / sales['units']\n",
    "\n",
    "# CASE 2: If base_price is still NaN or 0 ; base_price = median base price for that UPC\n",
    "mask_still_invalid = (sales['base_price'].isnull()) | (sales['base_price'] == 0)\n",
    "median_base = sales.groupby('upc')['base_price'].median()\n",
    "sales.loc[mask_still_invalid, 'base_price'] = sales.loc[mask_still_invalid, 'upc'].map(median_base)"
   ]
  },
  {
   "cell_type": "markdown",
   "id": "7c275beb-baa7-4d2b-8416-d2806c1d7a93",
   "metadata": {},
   "source": [
    "Filling missing/0 price:\n",
    "\n",
    "if tpr = 1, check the upc and median the baseprice\n",
    "\n",
    "if tpr = 0 , then price = base price"
   ]
  },
  {
   "cell_type": "code",
   "execution_count": 13,
   "id": "e9904b75-b4b2-453a-937b-50a8a33d1312",
   "metadata": {},
   "outputs": [],
   "source": [
    "# CASE 1: If TPR = 0 → price = base_price\n",
    "mask_base_invalid = (sales['price'].isnull()) | (sales['price'] == 0)\n",
    "mask_tpr_0 = sales['tpr_only'] == 0\n",
    "sales.loc[mask_base_invalid & mask_tpr_0, 'price'] = sales['spend'] / sales['units']\n",
    "\n",
    "# CASE 2: If TPR = 1, fill from average of price for the same UPC\n",
    "mask_base_invalid = (sales['price'].isnull()) | (sales['price'] == 0)\n",
    "mean_price = sales.groupby('upc')['price'].mean()\n",
    "sales.loc[mask_still_invalid, 'price'] = sales.loc[mask_still_invalid, 'upc'].map(median_base)"
   ]
  },
  {
   "cell_type": "markdown",
   "id": "6991bc2b-9ca0-469a-9212-768898878aa2",
   "metadata": {},
   "source": [
    "## FLAGGING OUTLIERS\n",
    "1. Are customers buying too many units per trip?\n",
    "    -- Flagging bulk-buying or data errors\n",
    "2. Are there too many visits per household in a week?\n",
    "    -- Anomolies /over purchasing\n",
    " "
   ]
  },
  {
   "cell_type": "code",
   "execution_count": 14,
   "id": "82f47fe7-20dc-4559-965f-9556a2fcc55d",
   "metadata": {},
   "outputs": [],
   "source": [
    "sales['units_per_visit'] = sales['units'] / sales['visits']\n",
    "sales['visits_per_hhs'] = sales['visits'] / sales['hhs']"
   ]
  },
  {
   "cell_type": "code",
   "execution_count": 15,
   "id": "932a6a3b-dc3a-430e-94d9-c870d3c48997",
   "metadata": {},
   "outputs": [
    {
     "name": "stdout",
     "output_type": "stream",
     "text": [
      "95th percentile units/visit: 1.50\n",
      "95th percentile visits/hhs: 1.10\n"
     ]
    }
   ],
   "source": [
    "# 95th percentile for outliers\n",
    "units_per_visit_threshold = sales['units_per_visit'].quantile(0.95)\n",
    "visits_per_hhs_threshold = sales['visits_per_hhs'].quantile(0.95)\n",
    "\n",
    "print(f\"95th percentile units/visit: {units_per_visit_threshold:.2f}\")\n",
    "print(f\"95th percentile visits/hhs: {visits_per_hhs_threshold:.2f}\")"
   ]
  },
  {
   "cell_type": "code",
   "execution_count": 16,
   "id": "ac833fff-e081-4312-8d8c-443f324ae597",
   "metadata": {},
   "outputs": [],
   "source": [
    "sales['outlier_flag'] = (\n",
    "    (sales['units_per_visit'] > units_per_visit_threshold) |\n",
    "    (sales['visits_per_hhs'] > visits_per_hhs_threshold)\n",
    ")"
   ]
  },
  {
   "cell_type": "code",
   "execution_count": 17,
   "id": "aa9bf788-580c-4f85-8a1e-17bd3af00e52",
   "metadata": {},
   "outputs": [
    {
     "name": "stdout",
     "output_type": "stream",
     "text": [
      "Outliers flagged: 44502 / 524950 rows\n"
     ]
    },
    {
     "data": {
      "text/html": [
       "<div>\n",
       "<style scoped>\n",
       "    .dataframe tbody tr th:only-of-type {\n",
       "        vertical-align: middle;\n",
       "    }\n",
       "\n",
       "    .dataframe tbody tr th {\n",
       "        vertical-align: top;\n",
       "    }\n",
       "\n",
       "    .dataframe thead th {\n",
       "        text-align: right;\n",
       "    }\n",
       "</style>\n",
       "<table border=\"1\" class=\"dataframe\">\n",
       "  <thead>\n",
       "    <tr style=\"text-align: right;\">\n",
       "      <th></th>\n",
       "      <th>week_end_date</th>\n",
       "      <th>store_num</th>\n",
       "      <th>upc</th>\n",
       "      <th>units</th>\n",
       "      <th>visits</th>\n",
       "      <th>hhs</th>\n",
       "      <th>spend</th>\n",
       "      <th>price</th>\n",
       "      <th>base_price</th>\n",
       "      <th>feature</th>\n",
       "      <th>display</th>\n",
       "      <th>tpr_only</th>\n",
       "      <th>units_per_visit</th>\n",
       "      <th>visits_per_hhs</th>\n",
       "      <th>outlier_flag</th>\n",
       "    </tr>\n",
       "  </thead>\n",
       "  <tbody>\n",
       "    <tr>\n",
       "      <th>13</th>\n",
       "      <td>2009-01-14</td>\n",
       "      <td>367</td>\n",
       "      <td>1600027528</td>\n",
       "      <td>31</td>\n",
       "      <td>26</td>\n",
       "      <td>19</td>\n",
       "      <td>142.29</td>\n",
       "      <td>4.59</td>\n",
       "      <td>4.59</td>\n",
       "      <td>0</td>\n",
       "      <td>0</td>\n",
       "      <td>0</td>\n",
       "      <td>1.192308</td>\n",
       "      <td>1.368421</td>\n",
       "      <td>True</td>\n",
       "    </tr>\n",
       "    <tr>\n",
       "      <th>14</th>\n",
       "      <td>2009-01-14</td>\n",
       "      <td>367</td>\n",
       "      <td>1600027564</td>\n",
       "      <td>56</td>\n",
       "      <td>48</td>\n",
       "      <td>42</td>\n",
       "      <td>152.32</td>\n",
       "      <td>2.72</td>\n",
       "      <td>3.07</td>\n",
       "      <td>1</td>\n",
       "      <td>0</td>\n",
       "      <td>0</td>\n",
       "      <td>1.166667</td>\n",
       "      <td>1.142857</td>\n",
       "      <td>True</td>\n",
       "    </tr>\n",
       "    <tr>\n",
       "      <th>21</th>\n",
       "      <td>2009-01-14</td>\n",
       "      <td>367</td>\n",
       "      <td>3800031829</td>\n",
       "      <td>14</td>\n",
       "      <td>11</td>\n",
       "      <td>3</td>\n",
       "      <td>43.96</td>\n",
       "      <td>3.14</td>\n",
       "      <td>3.14</td>\n",
       "      <td>0</td>\n",
       "      <td>0</td>\n",
       "      <td>0</td>\n",
       "      <td>1.272727</td>\n",
       "      <td>3.666667</td>\n",
       "      <td>True</td>\n",
       "    </tr>\n",
       "    <tr>\n",
       "      <th>25</th>\n",
       "      <td>2009-01-14</td>\n",
       "      <td>367</td>\n",
       "      <td>7027316204</td>\n",
       "      <td>13</td>\n",
       "      <td>8</td>\n",
       "      <td>8</td>\n",
       "      <td>26.26</td>\n",
       "      <td>2.02</td>\n",
       "      <td>3.29</td>\n",
       "      <td>0</td>\n",
       "      <td>0</td>\n",
       "      <td>1</td>\n",
       "      <td>1.625000</td>\n",
       "      <td>1.000000</td>\n",
       "      <td>True</td>\n",
       "    </tr>\n",
       "    <tr>\n",
       "      <th>52</th>\n",
       "      <td>2009-01-14</td>\n",
       "      <td>387</td>\n",
       "      <td>2840004768</td>\n",
       "      <td>21</td>\n",
       "      <td>19</td>\n",
       "      <td>17</td>\n",
       "      <td>60.69</td>\n",
       "      <td>2.89</td>\n",
       "      <td>2.89</td>\n",
       "      <td>0</td>\n",
       "      <td>0</td>\n",
       "      <td>0</td>\n",
       "      <td>1.105263</td>\n",
       "      <td>1.117647</td>\n",
       "      <td>True</td>\n",
       "    </tr>\n",
       "  </tbody>\n",
       "</table>\n",
       "</div>"
      ],
      "text/plain": [
       "   week_end_date  store_num         upc  units  visits  hhs   spend  price  \\\n",
       "13    2009-01-14        367  1600027528     31      26   19  142.29   4.59   \n",
       "14    2009-01-14        367  1600027564     56      48   42  152.32   2.72   \n",
       "21    2009-01-14        367  3800031829     14      11    3   43.96   3.14   \n",
       "25    2009-01-14        367  7027316204     13       8    8   26.26   2.02   \n",
       "52    2009-01-14        387  2840004768     21      19   17   60.69   2.89   \n",
       "\n",
       "    base_price  feature  display  tpr_only  units_per_visit  visits_per_hhs  \\\n",
       "13        4.59        0        0         0         1.192308        1.368421   \n",
       "14        3.07        1        0         0         1.166667        1.142857   \n",
       "21        3.14        0        0         0         1.272727        3.666667   \n",
       "25        3.29        0        0         1         1.625000        1.000000   \n",
       "52        2.89        0        0         0         1.105263        1.117647   \n",
       "\n",
       "    outlier_flag  \n",
       "13          True  \n",
       "14          True  \n",
       "21          True  \n",
       "25          True  \n",
       "52          True  "
      ]
     },
     "execution_count": 17,
     "metadata": {},
     "output_type": "execute_result"
    }
   ],
   "source": [
    "# Count flagged outliers\n",
    "print(f\"Outliers flagged: {sales['outlier_flag'].sum()} / {len(sales)} rows\")\n",
    "\n",
    "sales[sales['outlier_flag']].head()"
   ]
  },
  {
   "cell_type": "code",
   "execution_count": 18,
   "id": "1ea4e96e-bbde-4000-b987-324d67a6e531",
   "metadata": {},
   "outputs": [
    {
     "name": "stdout",
     "output_type": "stream",
     "text": [
      "       week_end_date  store_num          upc  units  visits  hhs  spend  \\\n",
      "479987    2011-10-05       8035  88491201426     24      20    1  83.52   \n",
      "496432    2011-11-09       8035  88491201426     18      12    1  63.72   \n",
      "390404    2011-04-06       8035  88491201426     26      21    2  81.12   \n",
      "50053     2009-05-06       4259  88491201426     23      19    2  59.34   \n",
      "224601    2010-05-05      23055  88491201426     25      18    2  86.25   \n",
      "\n",
      "        price  base_price  feature  display  tpr_only  units_per_visit  \\\n",
      "479987   3.48        3.48        0        0         0         1.200000   \n",
      "496432   3.54        3.54        0        0         0         1.500000   \n",
      "390404   3.12        3.12        0        0         0         1.238095   \n",
      "50053    2.58        2.58        0        0         0         1.210526   \n",
      "224601   3.45        3.45        0        0         0         1.388889   \n",
      "\n",
      "        visits_per_hhs  outlier_flag  \n",
      "479987            20.0          True  \n",
      "496432            12.0          True  \n",
      "390404            10.5          True  \n",
      "50053              9.5          True  \n",
      "224601             9.0          True  \n"
     ]
    }
   ],
   "source": [
    "outliers_df = sales[sales['outlier_flag']]\n",
    "print(outliers_df.sort_values(by='visits_per_hhs', ascending=False).head())"
   ]
  },
  {
   "cell_type": "code",
   "execution_count": 19,
   "id": "ebb095a5-c27e-4314-ae78-a15c91d09754",
   "metadata": {},
   "outputs": [
    {
     "name": "stdout",
     "output_type": "stream",
     "text": [
      "       week_end_date  store_num         upc  units  visits  hhs   spend  \\\n",
      "323827    2010-11-24       6179  3700031613     51       2    2  152.49   \n",
      "327963    2010-12-01      13827  1111009477    480      25   21  542.40   \n",
      "324470    2010-11-24      13827  1111009477    670      39   31  750.40   \n",
      "292912    2010-09-22      13827  1111009477    422      36   32  476.86   \n",
      "331454    2010-12-08      13827  1111009477    519      45   40  581.28   \n",
      "\n",
      "        price  base_price  feature  display  tpr_only  units_per_visit  \\\n",
      "323827   2.99        4.29        1        0         0        25.500000   \n",
      "327963   1.13        1.13        0        0         0        19.200000   \n",
      "324470   1.12        1.12        0        0         0        17.179487   \n",
      "292912   1.13        1.14        0        1         0        11.722222   \n",
      "331454   1.12        1.12        0        0         0        11.533333   \n",
      "\n",
      "        visits_per_hhs  outlier_flag  \n",
      "323827        1.000000          True  \n",
      "327963        1.190476          True  \n",
      "324470        1.258065          True  \n",
      "292912        1.125000          True  \n",
      "331454        1.125000          True  \n"
     ]
    }
   ],
   "source": [
    "print(outliers_df.sort_values(by='units_per_visit', ascending=False).head())"
   ]
  },
  {
   "cell_type": "code",
   "execution_count": 20,
   "id": "910b187f-522d-4f7c-8dc8-c631ea8eae77",
   "metadata": {},
   "outputs": [],
   "source": [
    "sales['discount'] = sales['base_price'] - sales['price']\n",
    "sales['discount_pct'] = ((sales['discount']*100) / sales['base_price']).round(3)"
   ]
  },
  {
   "cell_type": "code",
   "execution_count": 21,
   "id": "0df15522-397a-47f8-9f29-8bfc78806a1e",
   "metadata": {},
   "outputs": [
    {
     "data": {
      "text/html": [
       "<div>\n",
       "<style scoped>\n",
       "    .dataframe tbody tr th:only-of-type {\n",
       "        vertical-align: middle;\n",
       "    }\n",
       "\n",
       "    .dataframe tbody tr th {\n",
       "        vertical-align: top;\n",
       "    }\n",
       "\n",
       "    .dataframe thead th {\n",
       "        text-align: right;\n",
       "    }\n",
       "</style>\n",
       "<table border=\"1\" class=\"dataframe\">\n",
       "  <thead>\n",
       "    <tr style=\"text-align: right;\">\n",
       "      <th></th>\n",
       "      <th>week_end_date</th>\n",
       "      <th>store_num</th>\n",
       "      <th>upc</th>\n",
       "      <th>units</th>\n",
       "      <th>visits</th>\n",
       "      <th>hhs</th>\n",
       "      <th>spend</th>\n",
       "      <th>price</th>\n",
       "      <th>base_price</th>\n",
       "      <th>feature</th>\n",
       "      <th>display</th>\n",
       "      <th>tpr_only</th>\n",
       "      <th>units_per_visit</th>\n",
       "      <th>visits_per_hhs</th>\n",
       "      <th>outlier_flag</th>\n",
       "      <th>discount</th>\n",
       "      <th>discount_pct</th>\n",
       "    </tr>\n",
       "  </thead>\n",
       "  <tbody>\n",
       "    <tr>\n",
       "      <th>304180</th>\n",
       "      <td>2010-10-13</td>\n",
       "      <td>19533</td>\n",
       "      <td>7218063983</td>\n",
       "      <td>1</td>\n",
       "      <td>1</td>\n",
       "      <td>1</td>\n",
       "      <td>0.0</td>\n",
       "      <td>0.0</td>\n",
       "      <td>7.29</td>\n",
       "      <td>0</td>\n",
       "      <td>0</td>\n",
       "      <td>0</td>\n",
       "      <td>1.0</td>\n",
       "      <td>1.0</td>\n",
       "      <td>False</td>\n",
       "      <td>7.29</td>\n",
       "      <td>100.0</td>\n",
       "    </tr>\n",
       "    <tr>\n",
       "      <th>325502</th>\n",
       "      <td>2010-11-24</td>\n",
       "      <td>21485</td>\n",
       "      <td>2840002333</td>\n",
       "      <td>1</td>\n",
       "      <td>1</td>\n",
       "      <td>1</td>\n",
       "      <td>0.0</td>\n",
       "      <td>0.0</td>\n",
       "      <td>2.89</td>\n",
       "      <td>0</td>\n",
       "      <td>0</td>\n",
       "      <td>0</td>\n",
       "      <td>1.0</td>\n",
       "      <td>1.0</td>\n",
       "      <td>False</td>\n",
       "      <td>2.89</td>\n",
       "      <td>100.0</td>\n",
       "    </tr>\n",
       "    <tr>\n",
       "      <th>150740</th>\n",
       "      <td>2009-12-02</td>\n",
       "      <td>28909</td>\n",
       "      <td>31254742735</td>\n",
       "      <td>2</td>\n",
       "      <td>2</td>\n",
       "      <td>2</td>\n",
       "      <td>0.0</td>\n",
       "      <td>0.0</td>\n",
       "      <td>4.99</td>\n",
       "      <td>0</td>\n",
       "      <td>0</td>\n",
       "      <td>0</td>\n",
       "      <td>1.0</td>\n",
       "      <td>1.0</td>\n",
       "      <td>False</td>\n",
       "      <td>4.99</td>\n",
       "      <td>100.0</td>\n",
       "    </tr>\n",
       "    <tr>\n",
       "      <th>481806</th>\n",
       "      <td>2011-10-05</td>\n",
       "      <td>25021</td>\n",
       "      <td>3000006610</td>\n",
       "      <td>1</td>\n",
       "      <td>1</td>\n",
       "      <td>1</td>\n",
       "      <td>0.0</td>\n",
       "      <td>0.0</td>\n",
       "      <td>3.09</td>\n",
       "      <td>0</td>\n",
       "      <td>0</td>\n",
       "      <td>0</td>\n",
       "      <td>1.0</td>\n",
       "      <td>1.0</td>\n",
       "      <td>False</td>\n",
       "      <td>3.09</td>\n",
       "      <td>100.0</td>\n",
       "    </tr>\n",
       "    <tr>\n",
       "      <th>246398</th>\n",
       "      <td>2010-06-23</td>\n",
       "      <td>367</td>\n",
       "      <td>7027316404</td>\n",
       "      <td>3</td>\n",
       "      <td>3</td>\n",
       "      <td>3</td>\n",
       "      <td>0.0</td>\n",
       "      <td>0.0</td>\n",
       "      <td>1.97</td>\n",
       "      <td>0</td>\n",
       "      <td>0</td>\n",
       "      <td>1</td>\n",
       "      <td>1.0</td>\n",
       "      <td>1.0</td>\n",
       "      <td>False</td>\n",
       "      <td>1.97</td>\n",
       "      <td>100.0</td>\n",
       "    </tr>\n",
       "  </tbody>\n",
       "</table>\n",
       "</div>"
      ],
      "text/plain": [
       "       week_end_date  store_num          upc  units  visits  hhs  spend  \\\n",
       "304180    2010-10-13      19533   7218063983      1       1    1    0.0   \n",
       "325502    2010-11-24      21485   2840002333      1       1    1    0.0   \n",
       "150740    2009-12-02      28909  31254742735      2       2    2    0.0   \n",
       "481806    2011-10-05      25021   3000006610      1       1    1    0.0   \n",
       "246398    2010-06-23        367   7027316404      3       3    3    0.0   \n",
       "\n",
       "        price  base_price  feature  display  tpr_only  units_per_visit  \\\n",
       "304180    0.0        7.29        0        0         0              1.0   \n",
       "325502    0.0        2.89        0        0         0              1.0   \n",
       "150740    0.0        4.99        0        0         0              1.0   \n",
       "481806    0.0        3.09        0        0         0              1.0   \n",
       "246398    0.0        1.97        0        0         1              1.0   \n",
       "\n",
       "        visits_per_hhs  outlier_flag  discount  discount_pct  \n",
       "304180             1.0         False      7.29         100.0  \n",
       "325502             1.0         False      2.89         100.0  \n",
       "150740             1.0         False      4.99         100.0  \n",
       "481806             1.0         False      3.09         100.0  \n",
       "246398             1.0         False      1.97         100.0  "
      ]
     },
     "execution_count": 21,
     "metadata": {},
     "output_type": "execute_result"
    }
   ],
   "source": [
    "sales.sort_values(by=\"discount_pct\", ascending=False).head(5)"
   ]
  },
  {
   "cell_type": "code",
   "execution_count": 22,
   "id": "bc58573c-b013-4943-919e-0b9a6f885041",
   "metadata": {},
   "outputs": [
    {
     "name": "stdout",
     "output_type": "stream",
     "text": [
      "   STORE_ID          STORE_NAME ADDRESS_CITY_NAME ADDRESS_STATE_PROV_CODE  \\\n",
      "0       389          SILVERLAKE          ERLANGER                      KY   \n",
      "1      2277  ANDERSON TOWNE CTR        CINCINNATI                      OH   \n",
      "2      4259       WARSAW AVENUE        CINCINNATI                      OH   \n",
      "3      6379            KINGWOOD          KINGWOOD                      TX   \n",
      "4      6431        AT WARD ROAD           BAYTOWN                      TX   \n",
      "\n",
      "   MSA_CODE SEG_VALUE_NAME  PARKING_SPACE_QTY  SALES_AREA_SIZE_NUM  \\\n",
      "0     17140     MAINSTREAM              408.0                46073   \n",
      "1     17140        UPSCALE                NaN                81958   \n",
      "2     17140          VALUE                NaN                48813   \n",
      "3     26420     MAINSTREAM                NaN                50237   \n",
      "4     26420          VALUE              350.0                43698   \n",
      "\n",
      "   AVG_WEEKLY_BASKETS  \n",
      "0               24767  \n",
      "1               54053  \n",
      "2               31177  \n",
      "3               20620  \n",
      "4               24322  \n",
      "<class 'pandas.core.frame.DataFrame'>\n",
      "RangeIndex: 79 entries, 0 to 78\n",
      "Data columns (total 9 columns):\n",
      " #   Column                   Non-Null Count  Dtype  \n",
      "---  ------                   --------------  -----  \n",
      " 0   STORE_ID                 79 non-null     int64  \n",
      " 1   STORE_NAME               79 non-null     object \n",
      " 2   ADDRESS_CITY_NAME        79 non-null     object \n",
      " 3   ADDRESS_STATE_PROV_CODE  79 non-null     object \n",
      " 4   MSA_CODE                 79 non-null     int64  \n",
      " 5   SEG_VALUE_NAME           79 non-null     object \n",
      " 6   PARKING_SPACE_QTY        27 non-null     float64\n",
      " 7   SALES_AREA_SIZE_NUM      79 non-null     int64  \n",
      " 8   AVG_WEEKLY_BASKETS       79 non-null     int64  \n",
      "dtypes: float64(1), int64(4), object(4)\n",
      "memory usage: 5.7+ KB\n",
      "None\n",
      "STORE_ID                    0\n",
      "STORE_NAME                  0\n",
      "ADDRESS_CITY_NAME           0\n",
      "ADDRESS_STATE_PROV_CODE     0\n",
      "MSA_CODE                    0\n",
      "SEG_VALUE_NAME              0\n",
      "PARKING_SPACE_QTY          52\n",
      "SALES_AREA_SIZE_NUM         0\n",
      "AVG_WEEKLY_BASKETS          0\n",
      "dtype: int64\n"
     ]
    }
   ],
   "source": [
    "print(store.head())\n",
    "print(store.info()) \n",
    "print(store.isnull().sum())"
   ]
  },
  {
   "cell_type": "code",
   "execution_count": 23,
   "id": "1170fce2-082e-4002-b1c9-98b6cab6a391",
   "metadata": {},
   "outputs": [],
   "source": [
    "store.columns = store.columns.str.lower()"
   ]
  },
  {
   "cell_type": "code",
   "execution_count": 24,
   "id": "606d5bb8-9f8f-4b0d-a9f3-549d106c4036",
   "metadata": {},
   "outputs": [
    {
     "name": "stdout",
     "output_type": "stream",
     "text": [
      "          UPC                DESCRIPTION   MANUFACTURER  \\\n",
      "0  1111009477     PL MINI TWIST PRETZELS  PRIVATE LABEL   \n",
      "1  1111009497          PL PRETZEL STICKS  PRIVATE LABEL   \n",
      "2  1111009507          PL TWIST PRETZELS  PRIVATE LABEL   \n",
      "3  3500068914        COLG SPEARMINT WISP        COLGATE   \n",
      "4  3700019521  CREST PH WHTG CLN MINT TP          P & G   \n",
      "\n",
      "                CATEGORY                 SUB_CATEGORY PRODUCT_SIZE  \n",
      "0             BAG SNACKS                     PRETZELS        15 OZ  \n",
      "1             BAG SNACKS                     PRETZELS        15 OZ  \n",
      "2             BAG SNACKS                     PRETZELS        15 OZ  \n",
      "3  ORAL HYGIENE PRODUCTS  MOUTHWASH/RINSES AND SPRAYS        16 CT  \n",
      "4  ORAL HYGIENE PRODUCTS  MOUTHWASH/RINSES AND SPRAYS       4.2 OZ  \n",
      "<class 'pandas.core.frame.DataFrame'>\n",
      "RangeIndex: 58 entries, 0 to 57\n",
      "Data columns (total 6 columns):\n",
      " #   Column        Non-Null Count  Dtype \n",
      "---  ------        --------------  ----- \n",
      " 0   UPC           58 non-null     int64 \n",
      " 1   DESCRIPTION   58 non-null     object\n",
      " 2   MANUFACTURER  58 non-null     object\n",
      " 3   CATEGORY      58 non-null     object\n",
      " 4   SUB_CATEGORY  58 non-null     object\n",
      " 5   PRODUCT_SIZE  58 non-null     object\n",
      "dtypes: int64(1), object(5)\n",
      "memory usage: 2.8+ KB\n",
      "None\n",
      "UPC             0\n",
      "DESCRIPTION     0\n",
      "MANUFACTURER    0\n",
      "CATEGORY        0\n",
      "SUB_CATEGORY    0\n",
      "PRODUCT_SIZE    0\n",
      "dtype: int64\n"
     ]
    }
   ],
   "source": [
    "print(product.head())\n",
    "print(product.info()) \n",
    "print(product.isnull().sum())"
   ]
  },
  {
   "cell_type": "code",
   "execution_count": 25,
   "id": "2c7ca36d-e941-4df2-90d3-f32f35f9f27e",
   "metadata": {},
   "outputs": [],
   "source": [
    "product.columns = product.columns.str.lower()"
   ]
  },
  {
   "cell_type": "code",
   "execution_count": 26,
   "id": "98afd922-98a0-4eda-86c4-e3755835ad90",
   "metadata": {},
   "outputs": [],
   "source": [
    "sales['store_num'] = sales['store_num'].astype(str)\n",
    "sales['upc'] = sales['upc'].astype(str)\n",
    "store['store_id'] = store['store_id'].astype(str)\n",
    "store['msa_code'] = store['msa_code'].astype(str)\n",
    "product['upc'] = product['upc'].astype(str)"
   ]
  },
  {
   "cell_type": "code",
   "execution_count": null,
   "id": "79e4e763-df3b-49a7-8a35-626f080daa6c",
   "metadata": {},
   "outputs": [],
   "source": [
    "outliers_df.to_csv(\"sales_outliers.csv\", index=False)"
   ]
  },
  {
   "cell_type": "code",
   "execution_count": null,
   "id": "4c5bc4ba-3abd-43fd-a2b0-564a57705b8b",
   "metadata": {},
   "outputs": [],
   "source": [
    "sales.to_csv(\"cleaned_sales.csv\", index=False)"
   ]
  },
  {
   "cell_type": "markdown",
   "id": "812acc62-7d83-4921-b2f4-c46a7dbb2616",
   "metadata": {},
   "source": [
    "## EDA"
   ]
  },
  {
   "cell_type": "markdown",
   "id": "d502c4e6-5e00-4a77-9bc1-d142a35e0d89",
   "metadata": {},
   "source": [
    "Total Rows, Unique Weeks, Products, Stores"
   ]
  },
  {
   "cell_type": "code",
   "execution_count": 27,
   "id": "56eb98b7-9894-4080-8963-e56f9d2ce79b",
   "metadata": {},
   "outputs": [
    {
     "name": "stdout",
     "output_type": "stream",
     "text": [
      "Total transactions: 524950\n",
      "Date range: 2009-01-14 00:00:00 to 2012-01-04 00:00:00\n",
      "Total weeks: 156\n",
      "Unique products (UPC): 55\n",
      "Unique stores: 77\n"
     ]
    }
   ],
   "source": [
    "print(\"Total transactions:\", len(sales))\n",
    "print(\"Date range:\", sales['week_end_date'].min(), \"to\", sales['week_end_date'].max())\n",
    "print(\"Total weeks:\", sales['week_end_date'].nunique())\n",
    "\n",
    "print(\"Unique products (UPC):\", sales['upc'].nunique())\n",
    "print(\"Unique stores:\", sales['store_num'].nunique())"
   ]
  },
  {
   "cell_type": "markdown",
   "id": "2d964ed8-9fc4-4be7-ae0f-3ea8d9c07114",
   "metadata": {},
   "source": [
    "Category, Brand, and Manufacturer"
   ]
  },
  {
   "cell_type": "code",
   "execution_count": 30,
   "id": "249f1877-6a0f-492f-a0da-278e5ed444dd",
   "metadata": {},
   "outputs": [],
   "source": [
    "sales_product = pd.merge(sales, product, on='upc', how='left')"
   ]
  },
  {
   "cell_type": "code",
   "execution_count": 32,
   "id": "ba3f2bcb-f8bf-4fcd-8550-5ab693bc66ce",
   "metadata": {},
   "outputs": [
    {
     "name": "stdout",
     "output_type": "stream",
     "text": [
      "Unique categories: 4\n",
      "Unique subcategories: 7\n",
      "Unique manufacturers: 16\n",
      "Category Counts:\n",
      " category\n",
      "COLD CEREAL              169689\n",
      "BAG SNACKS               127462\n",
      "ORAL HYGIENE PRODUCTS    116529\n",
      "FROZEN PIZZA             111270\n",
      "Name: count, dtype: int64\n"
     ]
    }
   ],
   "source": [
    "print(\"Unique categories:\", sales_product['category'].nunique())\n",
    "print(\"Unique subcategories:\", sales_product['sub_category'].nunique())\n",
    "print(\"Unique manufacturers:\", sales_product['manufacturer'].nunique())\n",
    "\n",
    "# category count\n",
    "print(\"Category Counts:\\n\",sales_product['category'].value_counts())"
   ]
  },
  {
   "cell_type": "code",
   "execution_count": 33,
   "id": "50ba7edd-2611-4bc8-acb0-888a0aa9625c",
   "metadata": {},
   "outputs": [
    {
     "name": "stdout",
     "output_type": "stream",
     "text": [
      "Store segment distribution:\n",
      " seg_value_name\n",
      "MAINSTREAM    301807\n",
      "UPSCALE       121829\n",
      "VALUE         115007\n",
      "Name: count, dtype: int64\n"
     ]
    }
   ],
   "source": [
    "full_data = pd.merge(sales_product, store, left_on='store_num', right_on='store_id', how='left')\n",
    "\n",
    "print(\"Store segment distribution:\\n\", full_data['seg_value_name'].value_counts())\n"
   ]
  },
  {
   "cell_type": "code",
   "execution_count": 34,
   "id": "b1c28df6-031d-4668-bf40-4801866e34c6",
   "metadata": {},
   "outputs": [
    {
     "name": "stdout",
     "output_type": "stream",
     "text": [
      "       weeks_available\n",
      "count        55.000000\n",
      "mean        150.981818\n",
      "std          14.921388\n",
      "min          98.000000\n",
      "25%         156.000000\n",
      "50%         156.000000\n",
      "75%         156.000000\n",
      "max         156.000000\n",
      "       weeks_active\n",
      "count     77.000000\n",
      "mean     155.675325\n",
      "std        2.849014\n",
      "min      131.000000\n",
      "25%      156.000000\n",
      "50%      156.000000\n",
      "75%      156.000000\n",
      "max      156.000000\n"
     ]
    }
   ],
   "source": [
    "product_coverage = sales.groupby('upc')['week_end_date'].nunique().reset_index()\n",
    "product_coverage.columns = ['upc', 'weeks_available']\n",
    "print(product_coverage.describe())\n",
    "\n",
    "store_coverage = sales.groupby('store_num')['week_end_date'].nunique().reset_index()\n",
    "store_coverage.columns = ['store_num', 'weeks_active']\n",
    "print(store_coverage.describe())\n"
   ]
  },
  {
   "cell_type": "markdown",
   "id": "6d32b543-0c70-456c-ab2b-3c55fc1a2b29",
   "metadata": {},
   "source": [
    "### Sales Overview"
   ]
  },
  {
   "cell_type": "code",
   "execution_count": 37,
   "id": "52827dbf-49da-49f4-8a94-7bf5fcd3ec43",
   "metadata": {},
   "outputs": [
    {
     "name": "stdout",
     "output_type": "stream",
     "text": [
      "Total units sold: 10293368\n",
      "Total dollar spend: 27927722.58\n",
      "Total number of baskets (visits): 9012000\n"
     ]
    }
   ],
   "source": [
    "print(\"Total units sold:\", sales['units'].sum())\n",
    "print(\"Total dollar spend:\", sales['spend'].sum().round(2))\n",
    "print(\"Total number of baskets (visits):\", sales['visits'].sum())\n"
   ]
  },
  {
   "cell_type": "code",
   "execution_count": 38,
   "id": "a15e36eb-092e-41b3-9ed1-103270f7accb",
   "metadata": {},
   "outputs": [
    {
     "name": "stdout",
     "output_type": "stream",
     "text": [
      "Date range: 2009-01-14 00:00:00 to 2012-01-04 00:00:00\n",
      "Number of weeks: 156\n"
     ]
    }
   ],
   "source": [
    "print(\"Date range:\", sales['week_end_date'].min(), \"to\", sales['week_end_date'].max())\n",
    "print(\"Number of weeks:\", sales['week_end_date'].nunique())\n"
   ]
  },
  {
   "cell_type": "code",
   "execution_count": 39,
   "id": "1cc1821f-e8a0-42ad-8c5b-f732718cc0b6",
   "metadata": {},
   "outputs": [
    {
     "name": "stdout",
     "output_type": "stream",
     "text": [
      "Unique products (UPC): 55\n",
      "Unique stores: 77\n"
     ]
    }
   ],
   "source": [
    "print(\"Unique products (UPC):\", sales['upc'].nunique())\n",
    "print(\"Unique stores:\", sales['store_num'].nunique())\n"
   ]
  },
  {
   "cell_type": "markdown",
   "id": "b6d9633f-fa82-4be6-bdeb-8284df714883",
   "metadata": {},
   "source": [
    "### Category Overview"
   ]
  },
  {
   "cell_type": "code",
   "execution_count": 44,
   "id": "40aa4b02-0d90-4068-9ad1-7d0714ba1ebf",
   "metadata": {},
   "outputs": [
    {
     "name": "stdout",
     "output_type": "stream",
     "text": [
      "                         units        spend  Unique_Products\n",
      "category                                                    \n",
      "COLD CEREAL            5827388  15008351.27               15\n",
      "FROZEN PIZZA           1343294   6459557.59               12\n",
      "BAG SNACKS             2601459   4731982.53               15\n",
      "ORAL HYGIENE PRODUCTS   521227   1727831.19               13\n"
     ]
    }
   ],
   "source": [
    "merged = sales.merge(product, on='upc', how='left')\n",
    "\n",
    "category_summary = merged.groupby('category').agg({\n",
    "    'units': 'sum',\n",
    "    'spend': 'sum',\n",
    "    'upc': pd.Series.nunique\n",
    "}).rename(columns={'upc': 'Unique_Products'}).sort_values(by='spend', ascending=False)\n",
    "\n",
    "print(category_summary)"
   ]
  },
  {
   "cell_type": "markdown",
   "id": "b20dd589-f0b0-41cb-9b54-563b9bf10fed",
   "metadata": {},
   "source": [
    "### Store Overview"
   ]
  },
  {
   "cell_type": "code",
   "execution_count": 45,
   "id": "2929991a-65d3-49bd-91a9-ed97af445524",
   "metadata": {},
   "outputs": [
    {
     "name": "stdout",
     "output_type": "stream",
     "text": [
      "                      spend    units  unique_stores\n",
      "seg_value_name                                     \n",
      "MAINSTREAM      15814325.76  5921002             43\n",
      "UPSCALE          7790323.60  2825748             17\n",
      "VALUE            5090707.00  1823254             19\n"
     ]
    }
   ],
   "source": [
    "merged_store = sales.merge(store, left_on='store_num', right_on='store_id', how='left')\n",
    "\n",
    "tier_summary = merged_store.groupby('seg_value_name').agg({\n",
    "    'spend': 'sum',\n",
    "    'units': 'sum',\n",
    "    'store_num': pd.Series.nunique\n",
    "}).rename(columns={'store_num': 'unique_stores'})\n",
    "\n",
    "print(tier_summary)\n"
   ]
  },
  {
   "cell_type": "markdown",
   "id": "2658d71e-59fe-4a81-b09c-6a1934787352",
   "metadata": {},
   "source": [
    "### Price Distribution by Product"
   ]
  },
  {
   "cell_type": "code",
   "execution_count": 46,
   "id": "6b770963-ccfc-4a3b-90fd-36df1e72b5f4",
   "metadata": {},
   "outputs": [
    {
     "data": {
      "text/html": [
       "<div>\n",
       "<style scoped>\n",
       "    .dataframe tbody tr th:only-of-type {\n",
       "        vertical-align: middle;\n",
       "    }\n",
       "\n",
       "    .dataframe tbody tr th {\n",
       "        vertical-align: top;\n",
       "    }\n",
       "\n",
       "    .dataframe thead th {\n",
       "        text-align: right;\n",
       "    }\n",
       "</style>\n",
       "<table border=\"1\" class=\"dataframe\">\n",
       "  <thead>\n",
       "    <tr style=\"text-align: right;\">\n",
       "      <th></th>\n",
       "      <th>upc</th>\n",
       "      <th>avg_price</th>\n",
       "      <th>max_price</th>\n",
       "      <th>base_price</th>\n",
       "      <th>avg_discount_pct</th>\n",
       "      <th>count_obs</th>\n",
       "      <th>description</th>\n",
       "      <th>manufacturer</th>\n",
       "      <th>category</th>\n",
       "    </tr>\n",
       "  </thead>\n",
       "  <tbody>\n",
       "    <tr>\n",
       "      <th>27</th>\n",
       "      <td>3500068914</td>\n",
       "      <td>7.496004</td>\n",
       "      <td>7.99</td>\n",
       "      <td>7.871880</td>\n",
       "      <td>4.827443</td>\n",
       "      <td>1399</td>\n",
       "      <td>COLG SPEARMINT WISP</td>\n",
       "      <td>COLGATE</td>\n",
       "      <td>ORAL HYGIENE PRODUCTS</td>\n",
       "    </tr>\n",
       "    <tr>\n",
       "      <th>46</th>\n",
       "      <td>7218063052</td>\n",
       "      <td>6.314345</td>\n",
       "      <td>8.91</td>\n",
       "      <td>6.880379</td>\n",
       "      <td>8.094223</td>\n",
       "      <td>10404</td>\n",
       "      <td>FRSC BRCK OVN ITL PEP PZ</td>\n",
       "      <td>TONYS</td>\n",
       "      <td>FROZEN PIZZA</td>\n",
       "    </tr>\n",
       "    <tr>\n",
       "      <th>48</th>\n",
       "      <td>7218063983</td>\n",
       "      <td>6.298191</td>\n",
       "      <td>7.89</td>\n",
       "      <td>6.880730</td>\n",
       "      <td>8.315577</td>\n",
       "      <td>8711</td>\n",
       "      <td>FRSC 4 CHEESE PIZZA</td>\n",
       "      <td>TONYS</td>\n",
       "      <td>FROZEN PIZZA</td>\n",
       "    </tr>\n",
       "    <tr>\n",
       "      <th>47</th>\n",
       "      <td>7218063979</td>\n",
       "      <td>6.296792</td>\n",
       "      <td>7.89</td>\n",
       "      <td>6.878320</td>\n",
       "      <td>8.308034</td>\n",
       "      <td>9755</td>\n",
       "      <td>FRSC PEPPERONI PIZZA</td>\n",
       "      <td>TONYS</td>\n",
       "      <td>FROZEN PIZZA</td>\n",
       "    </tr>\n",
       "    <tr>\n",
       "      <th>17</th>\n",
       "      <td>2066200532</td>\n",
       "      <td>6.025118</td>\n",
       "      <td>6.99</td>\n",
       "      <td>6.209281</td>\n",
       "      <td>2.861437</td>\n",
       "      <td>2755</td>\n",
       "      <td>NWMN OWN SUPREME PIZZA</td>\n",
       "      <td>KING</td>\n",
       "      <td>FROZEN PIZZA</td>\n",
       "    </tr>\n",
       "    <tr>\n",
       "      <th>15</th>\n",
       "      <td>2066200530</td>\n",
       "      <td>6.015117</td>\n",
       "      <td>6.99</td>\n",
       "      <td>6.172510</td>\n",
       "      <td>2.464374</td>\n",
       "      <td>5107</td>\n",
       "      <td>NWMN OWN PEPPERONI PIZZA</td>\n",
       "      <td>KING</td>\n",
       "      <td>FROZEN PIZZA</td>\n",
       "    </tr>\n",
       "    <tr>\n",
       "      <th>16</th>\n",
       "      <td>2066200531</td>\n",
       "      <td>6.009884</td>\n",
       "      <td>6.99</td>\n",
       "      <td>6.164991</td>\n",
       "      <td>2.423673</td>\n",
       "      <td>3807</td>\n",
       "      <td>NWMN OWN 4 CHEESE PIZZA</td>\n",
       "      <td>KING</td>\n",
       "      <td>FROZEN PIZZA</td>\n",
       "    </tr>\n",
       "    <tr>\n",
       "      <th>45</th>\n",
       "      <td>7192100339</td>\n",
       "      <td>5.981547</td>\n",
       "      <td>7.49</td>\n",
       "      <td>6.554559</td>\n",
       "      <td>8.514268</td>\n",
       "      <td>11962</td>\n",
       "      <td>DIGRN PEPP PIZZA</td>\n",
       "      <td>TOMBSTONE</td>\n",
       "      <td>FROZEN PIZZA</td>\n",
       "    </tr>\n",
       "    <tr>\n",
       "      <th>44</th>\n",
       "      <td>7192100337</td>\n",
       "      <td>5.978633</td>\n",
       "      <td>7.49</td>\n",
       "      <td>6.555917</td>\n",
       "      <td>8.575327</td>\n",
       "      <td>11918</td>\n",
       "      <td>DIGRN SUPREME PIZZA</td>\n",
       "      <td>TOMBSTONE</td>\n",
       "      <td>FROZEN PIZZA</td>\n",
       "    </tr>\n",
       "    <tr>\n",
       "      <th>43</th>\n",
       "      <td>7192100336</td>\n",
       "      <td>5.970749</td>\n",
       "      <td>7.49</td>\n",
       "      <td>6.559114</td>\n",
       "      <td>8.732991</td>\n",
       "      <td>11796</td>\n",
       "      <td>DIGIORNO THREE MEAT</td>\n",
       "      <td>TOMBSTONE</td>\n",
       "      <td>FROZEN PIZZA</td>\n",
       "    </tr>\n",
       "  </tbody>\n",
       "</table>\n",
       "</div>"
      ],
      "text/plain": [
       "           upc  avg_price  max_price  base_price  avg_discount_pct  count_obs  \\\n",
       "27  3500068914   7.496004       7.99    7.871880          4.827443       1399   \n",
       "46  7218063052   6.314345       8.91    6.880379          8.094223      10404   \n",
       "48  7218063983   6.298191       7.89    6.880730          8.315577       8711   \n",
       "47  7218063979   6.296792       7.89    6.878320          8.308034       9755   \n",
       "17  2066200532   6.025118       6.99    6.209281          2.861437       2755   \n",
       "15  2066200530   6.015117       6.99    6.172510          2.464374       5107   \n",
       "16  2066200531   6.009884       6.99    6.164991          2.423673       3807   \n",
       "45  7192100339   5.981547       7.49    6.554559          8.514268      11962   \n",
       "44  7192100337   5.978633       7.49    6.555917          8.575327      11918   \n",
       "43  7192100336   5.970749       7.49    6.559114          8.732991      11796   \n",
       "\n",
       "                 description manufacturer               category  \n",
       "27       COLG SPEARMINT WISP      COLGATE  ORAL HYGIENE PRODUCTS  \n",
       "46  FRSC BRCK OVN ITL PEP PZ        TONYS           FROZEN PIZZA  \n",
       "48       FRSC 4 CHEESE PIZZA        TONYS           FROZEN PIZZA  \n",
       "47      FRSC PEPPERONI PIZZA        TONYS           FROZEN PIZZA  \n",
       "17    NWMN OWN SUPREME PIZZA         KING           FROZEN PIZZA  \n",
       "15  NWMN OWN PEPPERONI PIZZA         KING           FROZEN PIZZA  \n",
       "16   NWMN OWN 4 CHEESE PIZZA         KING           FROZEN PIZZA  \n",
       "45          DIGRN PEPP PIZZA    TOMBSTONE           FROZEN PIZZA  \n",
       "44       DIGRN SUPREME PIZZA    TOMBSTONE           FROZEN PIZZA  \n",
       "43       DIGIORNO THREE MEAT    TOMBSTONE           FROZEN PIZZA  "
      ]
     },
     "execution_count": 46,
     "metadata": {},
     "output_type": "execute_result"
    }
   ],
   "source": [
    "# Average and max price per product\n",
    "product_price_stats = sales.groupby('upc').agg(\n",
    "    avg_price=('price', 'mean'),\n",
    "    max_price=('price', 'max'),\n",
    "    base_price=('base_price', 'mean'),\n",
    "    avg_discount_pct=('discount_pct', 'mean'),\n",
    "    count_obs=('price', 'count')\n",
    ").reset_index()\n",
    "\n",
    "# Join with product lookup\n",
    "product_price_stats = product_price_stats.merge(product[['upc', 'description', 'manufacturer', 'category']], on='upc', how='left')\n",
    "\n",
    "# View top 10 most expensive products\n",
    "product_price_stats.sort_values(by='avg_price', ascending=False).head(10)\n"
   ]
  },
  {
   "cell_type": "markdown",
   "id": "499e0347-6944-47b3-87c8-5808f0e90407",
   "metadata": {},
   "source": [
    "### Most Frequently Discounted Products"
   ]
  },
  {
   "cell_type": "code",
   "execution_count": 48,
   "id": "a73a9661-de79-4821-b848-6f2462fe2945",
   "metadata": {},
   "outputs": [
    {
     "data": {
      "text/html": [
       "<div>\n",
       "<style scoped>\n",
       "    .dataframe tbody tr th:only-of-type {\n",
       "        vertical-align: middle;\n",
       "    }\n",
       "\n",
       "    .dataframe tbody tr th {\n",
       "        vertical-align: top;\n",
       "    }\n",
       "\n",
       "    .dataframe thead th {\n",
       "        text-align: right;\n",
       "    }\n",
       "</style>\n",
       "<table border=\"1\" class=\"dataframe\">\n",
       "  <thead>\n",
       "    <tr style=\"text-align: right;\">\n",
       "      <th></th>\n",
       "      <th>upc</th>\n",
       "      <th>discounted_times</th>\n",
       "      <th>total_times</th>\n",
       "      <th>discount_freq_pct</th>\n",
       "      <th>description</th>\n",
       "      <th>manufacturer</th>\n",
       "      <th>category</th>\n",
       "    </tr>\n",
       "  </thead>\n",
       "  <tbody>\n",
       "    <tr>\n",
       "      <th>37</th>\n",
       "      <td>7027312504</td>\n",
       "      <td>2489</td>\n",
       "      <td>4546</td>\n",
       "      <td>54.75</td>\n",
       "      <td>SHURGD PRETZEL RODS</td>\n",
       "      <td>SHULTZ</td>\n",
       "      <td>BAG SNACKS</td>\n",
       "    </tr>\n",
       "    <tr>\n",
       "      <th>39</th>\n",
       "      <td>7027316404</td>\n",
       "      <td>2746</td>\n",
       "      <td>5051</td>\n",
       "      <td>54.37</td>\n",
       "      <td>SHURGD PRETZEL STICKS</td>\n",
       "      <td>SHULTZ</td>\n",
       "      <td>BAG SNACKS</td>\n",
       "    </tr>\n",
       "    <tr>\n",
       "      <th>38</th>\n",
       "      <td>7027316204</td>\n",
       "      <td>2691</td>\n",
       "      <td>5059</td>\n",
       "      <td>53.19</td>\n",
       "      <td>SHURGD MINI PRETZELS</td>\n",
       "      <td>SHULTZ</td>\n",
       "      <td>BAG SNACKS</td>\n",
       "    </tr>\n",
       "    <tr>\n",
       "      <th>28</th>\n",
       "      <td>3700019521</td>\n",
       "      <td>4233</td>\n",
       "      <td>8949</td>\n",
       "      <td>47.30</td>\n",
       "      <td>CREST PH WHTG CLN MINT TP</td>\n",
       "      <td>P &amp; G</td>\n",
       "      <td>ORAL HYGIENE PRODUCTS</td>\n",
       "    </tr>\n",
       "    <tr>\n",
       "      <th>14</th>\n",
       "      <td>1600027564</td>\n",
       "      <td>5561</td>\n",
       "      <td>11980</td>\n",
       "      <td>46.42</td>\n",
       "      <td>GM CHEERIOS</td>\n",
       "      <td>GENERAL MI</td>\n",
       "      <td>COLD CEREAL</td>\n",
       "    </tr>\n",
       "    <tr>\n",
       "      <th>5</th>\n",
       "      <td>1111038080</td>\n",
       "      <td>4433</td>\n",
       "      <td>10673</td>\n",
       "      <td>41.53</td>\n",
       "      <td>PL ANTSPTC SPG MNT MTHWS</td>\n",
       "      <td>PRIVATE LABEL</td>\n",
       "      <td>ORAL HYGIENE PRODUCTS</td>\n",
       "    </tr>\n",
       "    <tr>\n",
       "      <th>4</th>\n",
       "      <td>1111038078</td>\n",
       "      <td>4660</td>\n",
       "      <td>11249</td>\n",
       "      <td>41.43</td>\n",
       "      <td>PL BL MINT ANTSPTC RINSE</td>\n",
       "      <td>PRIVATE LABEL</td>\n",
       "      <td>ORAL HYGIENE PRODUCTS</td>\n",
       "    </tr>\n",
       "    <tr>\n",
       "      <th>43</th>\n",
       "      <td>7192100336</td>\n",
       "      <td>4548</td>\n",
       "      <td>11796</td>\n",
       "      <td>38.56</td>\n",
       "      <td>DIGIORNO THREE MEAT</td>\n",
       "      <td>TOMBSTONE</td>\n",
       "      <td>FROZEN PIZZA</td>\n",
       "    </tr>\n",
       "    <tr>\n",
       "      <th>44</th>\n",
       "      <td>7192100337</td>\n",
       "      <td>4511</td>\n",
       "      <td>11918</td>\n",
       "      <td>37.85</td>\n",
       "      <td>DIGRN SUPREME PIZZA</td>\n",
       "      <td>TOMBSTONE</td>\n",
       "      <td>FROZEN PIZZA</td>\n",
       "    </tr>\n",
       "    <tr>\n",
       "      <th>45</th>\n",
       "      <td>7192100339</td>\n",
       "      <td>4507</td>\n",
       "      <td>11962</td>\n",
       "      <td>37.68</td>\n",
       "      <td>DIGRN PEPP PIZZA</td>\n",
       "      <td>TOMBSTONE</td>\n",
       "      <td>FROZEN PIZZA</td>\n",
       "    </tr>\n",
       "  </tbody>\n",
       "</table>\n",
       "</div>"
      ],
      "text/plain": [
       "           upc  discounted_times  total_times  discount_freq_pct  \\\n",
       "37  7027312504              2489         4546              54.75   \n",
       "39  7027316404              2746         5051              54.37   \n",
       "38  7027316204              2691         5059              53.19   \n",
       "28  3700019521              4233         8949              47.30   \n",
       "14  1600027564              5561        11980              46.42   \n",
       "5   1111038080              4433        10673              41.53   \n",
       "4   1111038078              4660        11249              41.43   \n",
       "43  7192100336              4548        11796              38.56   \n",
       "44  7192100337              4511        11918              37.85   \n",
       "45  7192100339              4507        11962              37.68   \n",
       "\n",
       "                  description   manufacturer               category  \n",
       "37        SHURGD PRETZEL RODS         SHULTZ             BAG SNACKS  \n",
       "39      SHURGD PRETZEL STICKS         SHULTZ             BAG SNACKS  \n",
       "38       SHURGD MINI PRETZELS         SHULTZ             BAG SNACKS  \n",
       "28  CREST PH WHTG CLN MINT TP          P & G  ORAL HYGIENE PRODUCTS  \n",
       "14                GM CHEERIOS     GENERAL MI            COLD CEREAL  \n",
       "5    PL ANTSPTC SPG MNT MTHWS  PRIVATE LABEL  ORAL HYGIENE PRODUCTS  \n",
       "4    PL BL MINT ANTSPTC RINSE  PRIVATE LABEL  ORAL HYGIENE PRODUCTS  \n",
       "43        DIGIORNO THREE MEAT      TOMBSTONE           FROZEN PIZZA  \n",
       "44        DIGRN SUPREME PIZZA      TOMBSTONE           FROZEN PIZZA  \n",
       "45           DIGRN PEPP PIZZA      TOMBSTONE           FROZEN PIZZA  "
      ]
     },
     "execution_count": 48,
     "metadata": {},
     "output_type": "execute_result"
    }
   ],
   "source": [
    "# How many times each product was on discount\n",
    "discount_freq = sales[sales['discount_pct'] > 0].groupby('upc').size().reset_index(name='discounted_times')\n",
    "\n",
    "# Join with total product appearances to get % of times discounted\n",
    "product_total_counts = sales.groupby('upc').size().reset_index(name='total_times')\n",
    "discount_stats = discount_freq.merge(product_total_counts, on='upc')\n",
    "discount_stats['discount_freq_pct'] = round(discount_stats['discounted_times'] / discount_stats['total_times'] * 100, 2)\n",
    "\n",
    "# Merge with product info\n",
    "discount_stats = discount_stats.merge(product[['upc', 'description', 'manufacturer', 'category']], on='upc')\n",
    "\n",
    "# Top 10 most frequently discounted\n",
    "discount_stats.sort_values(by='discount_freq_pct', ascending=False).head(10)\n"
   ]
  },
  {
   "cell_type": "markdown",
   "id": "603ef425-3a58-426e-84ca-7aa685767ffb",
   "metadata": {},
   "source": [
    "### Category & Brand-Level Price Behavior"
   ]
  },
  {
   "cell_type": "markdown",
   "id": "f0cdeeec-794b-486b-9a40-242be0fe9f35",
   "metadata": {},
   "source": [
    "#### Price & Discount Stats by Category"
   ]
  },
  {
   "cell_type": "code",
   "execution_count": 49,
   "id": "e4f9e458-3804-463d-bb9e-3d3821d03df1",
   "metadata": {},
   "outputs": [
    {
     "name": "stdout",
     "output_type": "stream",
     "text": [
      "                category  avg_price  avg_base_price  avg_discount_pct  \\\n",
      "3  ORAL HYGIENE PRODUCTS   3.765057        4.026778          7.451257   \n",
      "2           FROZEN PIZZA   5.313967        5.727637          6.501931   \n",
      "1            COLD CEREAL   2.739635        2.889042          4.965756   \n",
      "0             BAG SNACKS   2.200540        2.310110          4.466812   \n",
      "\n",
      "   discount_freq  \n",
      "3       0.287293  \n",
      "2       0.283661  \n",
      "1       0.227369  \n",
      "0       0.244912  \n"
     ]
    }
   ],
   "source": [
    "category_price_summary = sales.merge(product[['upc', 'category']], on='upc') \\\n",
    "    .groupby('category').agg(\n",
    "        avg_price=('price', 'mean'),\n",
    "        avg_base_price=('base_price', 'mean'),\n",
    "        avg_discount_pct=('discount_pct', 'mean'),\n",
    "        discount_freq=('discount_pct', lambda x: (x > 0).sum() / len(x))\n",
    "    ).reset_index()\n",
    "\n",
    "print(category_price_summary.sort_values(by='avg_discount_pct', ascending=False))\n"
   ]
  },
  {
   "cell_type": "markdown",
   "id": "e9b96965-ac1b-4289-8108-67b919157a6f",
   "metadata": {},
   "source": [
    "#### Brand Discount Rankings (within category)"
   ]
  },
  {
   "cell_type": "code",
   "execution_count": 50,
   "id": "3010587e-59fa-4324-a55b-64b1961dedf8",
   "metadata": {},
   "outputs": [
    {
     "data": {
      "text/html": [
       "<div>\n",
       "<style scoped>\n",
       "    .dataframe tbody tr th:only-of-type {\n",
       "        vertical-align: middle;\n",
       "    }\n",
       "\n",
       "    .dataframe tbody tr th {\n",
       "        vertical-align: top;\n",
       "    }\n",
       "\n",
       "    .dataframe thead th {\n",
       "        text-align: right;\n",
       "    }\n",
       "</style>\n",
       "<table border=\"1\" class=\"dataframe\">\n",
       "  <thead>\n",
       "    <tr style=\"text-align: right;\">\n",
       "      <th></th>\n",
       "      <th>category</th>\n",
       "      <th>manufacturer</th>\n",
       "      <th>avg_discount_pct</th>\n",
       "      <th>times_discounted</th>\n",
       "      <th>total_observations</th>\n",
       "      <th>discount_frequency</th>\n",
       "    </tr>\n",
       "  </thead>\n",
       "  <tbody>\n",
       "    <tr>\n",
       "      <th>3</th>\n",
       "      <td>BAG SNACKS</td>\n",
       "      <td>SHULTZ</td>\n",
       "      <td>13.792032</td>\n",
       "      <td>7926</td>\n",
       "      <td>14656</td>\n",
       "      <td>54.08</td>\n",
       "    </tr>\n",
       "    <tr>\n",
       "      <th>4</th>\n",
       "      <td>BAG SNACKS</td>\n",
       "      <td>SNYDER S</td>\n",
       "      <td>5.456464</td>\n",
       "      <td>10344</td>\n",
       "      <td>31754</td>\n",
       "      <td>32.58</td>\n",
       "    </tr>\n",
       "    <tr>\n",
       "      <th>2</th>\n",
       "      <td>BAG SNACKS</td>\n",
       "      <td>PRIVATE LABEL</td>\n",
       "      <td>2.490033</td>\n",
       "      <td>7396</td>\n",
       "      <td>35188</td>\n",
       "      <td>21.02</td>\n",
       "    </tr>\n",
       "    <tr>\n",
       "      <th>1</th>\n",
       "      <td>BAG SNACKS</td>\n",
       "      <td>MKSL</td>\n",
       "      <td>3.152682</td>\n",
       "      <td>2682</td>\n",
       "      <td>13736</td>\n",
       "      <td>19.53</td>\n",
       "    </tr>\n",
       "    <tr>\n",
       "      <th>0</th>\n",
       "      <td>BAG SNACKS</td>\n",
       "      <td>FRITO LAY</td>\n",
       "      <td>1.961644</td>\n",
       "      <td>2869</td>\n",
       "      <td>32128</td>\n",
       "      <td>8.93</td>\n",
       "    </tr>\n",
       "    <tr>\n",
       "      <th>9</th>\n",
       "      <td>COLD CEREAL</td>\n",
       "      <td>QUAKER</td>\n",
       "      <td>6.870515</td>\n",
       "      <td>8373</td>\n",
       "      <td>30900</td>\n",
       "      <td>27.10</td>\n",
       "    </tr>\n",
       "    <tr>\n",
       "      <th>5</th>\n",
       "      <td>COLD CEREAL</td>\n",
       "      <td>GENERAL MI</td>\n",
       "      <td>6.602340</td>\n",
       "      <td>9522</td>\n",
       "      <td>35948</td>\n",
       "      <td>26.49</td>\n",
       "    </tr>\n",
       "    <tr>\n",
       "      <th>8</th>\n",
       "      <td>COLD CEREAL</td>\n",
       "      <td>PRIVATE LABEL</td>\n",
       "      <td>3.185598</td>\n",
       "      <td>8410</td>\n",
       "      <td>35902</td>\n",
       "      <td>23.42</td>\n",
       "    </tr>\n",
       "    <tr>\n",
       "      <th>6</th>\n",
       "      <td>COLD CEREAL</td>\n",
       "      <td>KELLOGG</td>\n",
       "      <td>5.094588</td>\n",
       "      <td>7959</td>\n",
       "      <td>35832</td>\n",
       "      <td>22.21</td>\n",
       "    </tr>\n",
       "    <tr>\n",
       "      <th>7</th>\n",
       "      <td>COLD CEREAL</td>\n",
       "      <td>POST FOODS</td>\n",
       "      <td>3.088553</td>\n",
       "      <td>4318</td>\n",
       "      <td>31107</td>\n",
       "      <td>13.88</td>\n",
       "    </tr>\n",
       "    <tr>\n",
       "      <th>12</th>\n",
       "      <td>FROZEN PIZZA</td>\n",
       "      <td>TOMBSTONE</td>\n",
       "      <td>8.606985</td>\n",
       "      <td>13566</td>\n",
       "      <td>35676</td>\n",
       "      <td>38.03</td>\n",
       "    </tr>\n",
       "    <tr>\n",
       "      <th>13</th>\n",
       "      <td>FROZEN PIZZA</td>\n",
       "      <td>TONYS</td>\n",
       "      <td>8.233258</td>\n",
       "      <td>8652</td>\n",
       "      <td>28870</td>\n",
       "      <td>29.97</td>\n",
       "    </tr>\n",
       "    <tr>\n",
       "      <th>11</th>\n",
       "      <td>FROZEN PIZZA</td>\n",
       "      <td>PRIVATE LABEL</td>\n",
       "      <td>4.250953</td>\n",
       "      <td>8149</td>\n",
       "      <td>35055</td>\n",
       "      <td>23.25</td>\n",
       "    </tr>\n",
       "    <tr>\n",
       "      <th>10</th>\n",
       "      <td>FROZEN PIZZA</td>\n",
       "      <td>KING</td>\n",
       "      <td>2.544840</td>\n",
       "      <td>1196</td>\n",
       "      <td>11669</td>\n",
       "      <td>10.25</td>\n",
       "    </tr>\n",
       "    <tr>\n",
       "      <th>16</th>\n",
       "      <td>ORAL HYGIENE PRODUCTS</td>\n",
       "      <td>P &amp; G</td>\n",
       "      <td>7.823416</td>\n",
       "      <td>10905</td>\n",
       "      <td>29832</td>\n",
       "      <td>36.55</td>\n",
       "    </tr>\n",
       "  </tbody>\n",
       "</table>\n",
       "</div>"
      ],
      "text/plain": [
       "                 category   manufacturer  avg_discount_pct  times_discounted  \\\n",
       "3              BAG SNACKS         SHULTZ         13.792032              7926   \n",
       "4              BAG SNACKS       SNYDER S          5.456464             10344   \n",
       "2              BAG SNACKS  PRIVATE LABEL          2.490033              7396   \n",
       "1              BAG SNACKS           MKSL          3.152682              2682   \n",
       "0              BAG SNACKS      FRITO LAY          1.961644              2869   \n",
       "9             COLD CEREAL         QUAKER          6.870515              8373   \n",
       "5             COLD CEREAL     GENERAL MI          6.602340              9522   \n",
       "8             COLD CEREAL  PRIVATE LABEL          3.185598              8410   \n",
       "6             COLD CEREAL        KELLOGG          5.094588              7959   \n",
       "7             COLD CEREAL     POST FOODS          3.088553              4318   \n",
       "12           FROZEN PIZZA      TOMBSTONE          8.606985             13566   \n",
       "13           FROZEN PIZZA          TONYS          8.233258              8652   \n",
       "11           FROZEN PIZZA  PRIVATE LABEL          4.250953              8149   \n",
       "10           FROZEN PIZZA           KING          2.544840              1196   \n",
       "16  ORAL HYGIENE PRODUCTS          P & G          7.823416             10905   \n",
       "\n",
       "    total_observations  discount_frequency  \n",
       "3                14656               54.08  \n",
       "4                31754               32.58  \n",
       "2                35188               21.02  \n",
       "1                13736               19.53  \n",
       "0                32128                8.93  \n",
       "9                30900               27.10  \n",
       "5                35948               26.49  \n",
       "8                35902               23.42  \n",
       "6                35832               22.21  \n",
       "7                31107               13.88  \n",
       "12               35676               38.03  \n",
       "13               28870               29.97  \n",
       "11               35055               23.25  \n",
       "10               11669               10.25  \n",
       "16               29832               36.55  "
      ]
     },
     "execution_count": 50,
     "metadata": {},
     "output_type": "execute_result"
    }
   ],
   "source": [
    "brand_discount = sales.merge(product[['upc', 'category', 'manufacturer']], on='upc') \\\n",
    "    .groupby(['category', 'manufacturer']).agg(\n",
    "        avg_discount_pct=('discount_pct', 'mean'),\n",
    "        times_discounted=('discount_pct', lambda x: (x > 0).sum()),\n",
    "        total_observations=('discount_pct', 'count')\n",
    "    ).reset_index()\n",
    "\n",
    "brand_discount['discount_frequency'] = round(brand_discount['times_discounted'] / brand_discount['total_observations'] * 100, 2)\n",
    "\n",
    "# Top discounted brands per category\n",
    "brand_discount.sort_values(['category', 'discount_frequency'], ascending=[True, False]).head(15)\n"
   ]
  },
  {
   "cell_type": "markdown",
   "id": "28d40663-223d-4573-aac2-4eda96241c7f",
   "metadata": {},
   "source": [
    "#### Category-Level Price & Discount Behavior"
   ]
  },
  {
   "cell_type": "code",
   "execution_count": 53,
   "id": "a56342fe-07ba-4b23-a46e-dd763b9f9bc7",
   "metadata": {},
   "outputs": [
    {
     "name": "stdout",
     "output_type": "stream",
     "text": [
      "                category  avg_price  avg_base_price  avg_discount_pct  \\\n",
      "3  ORAL HYGIENE PRODUCTS   3.765057        4.026778          7.451257   \n",
      "2           FROZEN PIZZA   5.313967        5.727637          6.501931   \n",
      "1            COLD CEREAL   2.739635        2.889042          4.965756   \n",
      "0             BAG SNACKS   2.200540        2.310110          4.466812   \n",
      "\n",
      "   discount_freq  \n",
      "3       0.287293  \n",
      "2       0.283661  \n",
      "1       0.227369  \n",
      "0       0.244912  \n"
     ]
    }
   ],
   "source": [
    "category_price_summary = sales.merge(product[['upc', 'category']], on='upc') \\\n",
    "    .groupby('category').agg(\n",
    "        avg_price=('price', 'mean'),\n",
    "        avg_base_price=('base_price', 'mean'),\n",
    "        avg_discount_pct=('discount_pct', 'mean'),\n",
    "        discount_freq=('discount_pct', lambda x: (x > 0).sum() / len(x))\n",
    "    ).reset_index()\n",
    "\n",
    "category_price_summary = category_price_summary.sort_values(by='avg_discount_pct', ascending=False)\n",
    "print(category_price_summary)"
   ]
  },
  {
   "cell_type": "code",
   "execution_count": null,
   "id": "06915114-0ac0-406c-85fd-0e57c344f1cd",
   "metadata": {},
   "outputs": [],
   "source": [
    "category_price_summary.to_csv(\"category_summary.csv\", index=False)"
   ]
  },
  {
   "cell_type": "markdown",
   "id": "b526095d-24a0-4a5b-8f1b-6ebbfdbb2dd0",
   "metadata": {},
   "source": [
    " #### Brand-Level Discount Behavior (within each category)"
   ]
  },
  {
   "cell_type": "code",
   "execution_count": 54,
   "id": "a436719d-3fc6-43b2-bc29-c6911b7acb96",
   "metadata": {},
   "outputs": [
    {
     "name": "stdout",
     "output_type": "stream",
     "text": [
      "                 category   manufacturer  avg_discount_pct  times_discounted  \\\n",
      "3              BAG SNACKS         SHULTZ         13.792032              7926   \n",
      "4              BAG SNACKS       SNYDER S          5.456464             10344   \n",
      "2              BAG SNACKS  PRIVATE LABEL          2.490033              7396   \n",
      "1              BAG SNACKS           MKSL          3.152682              2682   \n",
      "0              BAG SNACKS      FRITO LAY          1.961644              2869   \n",
      "9             COLD CEREAL         QUAKER          6.870515              8373   \n",
      "5             COLD CEREAL     GENERAL MI          6.602340              9522   \n",
      "8             COLD CEREAL  PRIVATE LABEL          3.185598              8410   \n",
      "6             COLD CEREAL        KELLOGG          5.094588              7959   \n",
      "7             COLD CEREAL     POST FOODS          3.088553              4318   \n",
      "12           FROZEN PIZZA      TOMBSTONE          8.606985             13566   \n",
      "13           FROZEN PIZZA          TONYS          8.233258              8652   \n",
      "11           FROZEN PIZZA  PRIVATE LABEL          4.250953              8149   \n",
      "10           FROZEN PIZZA           KING          2.544840              1196   \n",
      "16  ORAL HYGIENE PRODUCTS          P & G          7.823416             10905   \n",
      "17  ORAL HYGIENE PRODUCTS  PRIVATE LABEL         12.262125             10273   \n",
      "18  ORAL HYGIENE PRODUCTS         WARNER          6.069779              8853   \n",
      "15  ORAL HYGIENE PRODUCTS        COLGATE          4.827443               241   \n",
      "14  ORAL HYGIENE PRODUCTS        CHATTEM          2.221001              3206   \n",
      "\n",
      "    total_observations  discount_frequency  \n",
      "3                14656               54.08  \n",
      "4                31754               32.58  \n",
      "2                35188               21.02  \n",
      "1                13736               19.53  \n",
      "0                32128                8.93  \n",
      "9                30900               27.10  \n",
      "5                35948               26.49  \n",
      "8                35902               23.42  \n",
      "6                35832               22.21  \n",
      "7                31107               13.88  \n",
      "12               35676               38.03  \n",
      "13               28870               29.97  \n",
      "11               35055               23.25  \n",
      "10               11669               10.25  \n",
      "16               29832               36.55  \n",
      "17               31566               32.54  \n",
      "18               31631               27.99  \n",
      "15                1399               17.23  \n",
      "14               22101               14.51  \n"
     ]
    }
   ],
   "source": [
    "brand_discount = sales.merge(product[['upc', 'category', 'manufacturer']], on='upc') \\\n",
    "    .groupby(['category', 'manufacturer']).agg(\n",
    "        avg_discount_pct=('discount_pct', 'mean'),\n",
    "        times_discounted=('discount_pct', lambda x: (x > 0).sum()),\n",
    "        total_observations=('discount_pct', 'count')\n",
    "    ).reset_index()\n",
    "\n",
    "brand_discount['discount_frequency'] = round(\n",
    "    brand_discount['times_discounted'] / brand_discount['total_observations'] * 100, 2\n",
    ")\n",
    "\n",
    "brand_discount_sorted = brand_discount.sort_values(\n",
    "    ['category', 'discount_frequency'], ascending=[True, False]\n",
    ")\n",
    "\n",
    "print(brand_discount_sorted.head(20))\n"
   ]
  },
  {
   "cell_type": "code",
   "execution_count": 55,
   "id": "3526a17f-0b93-45eb-adfc-dad1f074b717",
   "metadata": {},
   "outputs": [],
   "source": [
    "brand_discount_sorted.to_csv(\"brand_discount_summary.csv\", index=False)"
   ]
  },
  {
   "cell_type": "code",
   "execution_count": 57,
   "id": "1605d114-7791-4c52-b785-52f8c2658b60",
   "metadata": {},
   "outputs": [],
   "source": [
    "weekly_sales = sales.groupby(\"week_end_date\")[[\"units\", \"spend\"]].sum().reset_index()\n",
    "weekly_sales.to_csv(\"weekly_sales.csv\", index=False)"
   ]
  },
  {
   "cell_type": "code",
   "execution_count": 58,
   "id": "f60b724d-7d4b-4358-859a-80e64845e43f",
   "metadata": {},
   "outputs": [],
   "source": [
    "sales_cat = (\n",
    "    sales.merge(product, on=\"upc\")\n",
    "    .groupby(\"category\")[[\"units\", \"spend\"]]\n",
    "    .sum()\n",
    "    .reset_index()\n",
    ")\n",
    "sales_cat.to_csv(\"category_sales.csv\", index=False)"
   ]
  },
  {
   "cell_type": "code",
   "execution_count": 59,
   "id": "819def9d-fddf-4d31-95b9-022eef1b0b38",
   "metadata": {},
   "outputs": [],
   "source": [
    "sales_brand = (\n",
    "    sales.merge(product, on=\"upc\")\n",
    "    .groupby(\"manufacturer\")[[\"units\", \"spend\"]]\n",
    "    .sum()\n",
    "    .reset_index()\n",
    "    .sort_values(by=\"spend\", ascending=False)\n",
    "    .head(20)\n",
    ")\n",
    "sales_brand.to_csv(\"top_brands_sales.csv\", index=False)"
   ]
  },
  {
   "cell_type": "code",
   "execution_count": 60,
   "id": "3b43e018-7e97-4e92-b191-8a567b7446da",
   "metadata": {},
   "outputs": [],
   "source": [
    "category_discount = (\n",
    "    sales.merge(product, on=\"upc\")\n",
    "    .groupby(\"category\")[\"discount_pct\"]\n",
    "    .mean()\n",
    "    .reset_index()\n",
    "    .sort_values(by=\"discount_pct\", ascending=False)\n",
    ")\n",
    "category_discount.to_csv(\"category_discounts.csv\", index=False)"
   ]
  },
  {
   "cell_type": "code",
   "execution_count": 61,
   "id": "cdab7593-4f03-4cec-a6c1-895dfc317c02",
   "metadata": {},
   "outputs": [],
   "source": [
    "brand_discount = (\n",
    "    sales.merge(product, on=\"upc\")\n",
    "    .groupby(\"manufacturer\")[\"discount_pct\"]\n",
    "    .mean()\n",
    "    .reset_index()\n",
    "    .sort_values(by=\"discount_pct\", ascending=False)\n",
    "    .head(20)\n",
    ")\n",
    "brand_discount.to_csv(\"brand_discounts.csv\", index=False)"
   ]
  },
  {
   "cell_type": "code",
   "execution_count": 62,
   "id": "3f6ca9f1-a9d3-4f6e-bd9d-2dd8886c6f36",
   "metadata": {},
   "outputs": [],
   "source": [
    "sales_store = (\n",
    "    sales.merge(store, left_on=\"store_num\", right_on=\"store_id\")\n",
    "    .groupby(\"seg_value_name\")[[\"units\", \"spend\"]]\n",
    "    .sum()\n",
    "    .reset_index()\n",
    ")\n",
    "sales_store.to_csv(\"store_segment_sales.csv\", index=False)"
   ]
  },
  {
   "cell_type": "code",
   "execution_count": 63,
   "id": "db79c368-28ca-47c5-8fa2-4d1c89e3bd2f",
   "metadata": {},
   "outputs": [],
   "source": [
    "sales_cat_tier = (\n",
    "    sales.merge(product, on=\"upc\")\n",
    "    .merge(store, left_on=\"store_num\", right_on=\"store_id\")\n",
    "    .groupby([\"category\", \"seg_value_name\"])[[\"units\", \"spend\"]]\n",
    "    .sum()\n",
    "    .reset_index()\n",
    ")\n",
    "sales_cat_tier.to_csv(\"category_store_tier_matrix.csv\", index=False)"
   ]
  },
  {
   "cell_type": "code",
   "execution_count": null,
   "id": "50b54140-4c2e-42f3-93f3-0b5456d6d329",
   "metadata": {},
   "outputs": [],
   "source": []
  },
  {
   "cell_type": "code",
   "execution_count": null,
   "id": "e068e6d0-d762-4541-985c-013f3f16497b",
   "metadata": {},
   "outputs": [],
   "source": []
  },
  {
   "cell_type": "code",
   "execution_count": null,
   "id": "f1a03b58-23db-4eb0-ab85-8d580c40def0",
   "metadata": {},
   "outputs": [],
   "source": []
  },
  {
   "cell_type": "code",
   "execution_count": null,
   "id": "205bc2ce-c58f-4f4f-9af3-0f9bbec40d99",
   "metadata": {},
   "outputs": [],
   "source": []
  }
 ],
 "metadata": {
  "kernelspec": {
   "display_name": "Python [conda env:base] *",
   "language": "python",
   "name": "conda-base-py"
  },
  "language_info": {
   "codemirror_mode": {
    "name": "ipython",
    "version": 3
   },
   "file_extension": ".py",
   "mimetype": "text/x-python",
   "name": "python",
   "nbconvert_exporter": "python",
   "pygments_lexer": "ipython3",
   "version": "3.12.7"
  }
 },
 "nbformat": 4,
 "nbformat_minor": 5
}
